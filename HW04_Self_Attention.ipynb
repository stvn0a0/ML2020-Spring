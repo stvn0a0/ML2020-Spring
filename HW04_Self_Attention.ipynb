{
  "nbformat": 4,
  "nbformat_minor": 0,
  "metadata": {
    "colab": {
      "name": "Copy of HW04.ipynb",
      "provenance": [],
      "collapsed_sections": [],
      "toc_visible": true,
      "machine_shape": "hm"
    },
    "kernelspec": {
      "display_name": "Python 3",
      "name": "python3"
    },
    "accelerator": "GPU",
    "widgets": {
      "application/vnd.jupyter.widget-state+json": {
        "dd5e351a084242539c393695402d18d9": {
          "model_module": "@jupyter-widgets/controls",
          "model_name": "HBoxModel",
          "state": {
            "_view_name": "HBoxView",
            "_dom_classes": [],
            "_model_name": "HBoxModel",
            "_view_module": "@jupyter-widgets/controls",
            "_model_module_version": "1.5.0",
            "_view_count": null,
            "_view_module_version": "1.5.0",
            "box_style": "",
            "layout": "IPY_MODEL_af0d32a475b348719a64bdc2ae17f928",
            "_model_module": "@jupyter-widgets/controls",
            "children": [
              "IPY_MODEL_365faa3a520e4303919d30becf65966b",
              "IPY_MODEL_630c8e6be29c4b3f9a50b6e64c2da18d"
            ]
          }
        },
        "af0d32a475b348719a64bdc2ae17f928": {
          "model_module": "@jupyter-widgets/base",
          "model_name": "LayoutModel",
          "state": {
            "_view_name": "LayoutView",
            "grid_template_rows": null,
            "right": null,
            "justify_content": null,
            "_view_module": "@jupyter-widgets/base",
            "overflow": null,
            "_model_module_version": "1.2.0",
            "_view_count": null,
            "flex_flow": null,
            "width": null,
            "min_width": null,
            "border": null,
            "align_items": null,
            "bottom": null,
            "_model_module": "@jupyter-widgets/base",
            "top": null,
            "grid_column": null,
            "overflow_y": null,
            "overflow_x": null,
            "grid_auto_flow": null,
            "grid_area": null,
            "grid_template_columns": null,
            "flex": null,
            "_model_name": "LayoutModel",
            "justify_items": null,
            "grid_row": null,
            "max_height": null,
            "align_content": null,
            "visibility": null,
            "align_self": null,
            "height": null,
            "min_height": null,
            "padding": null,
            "grid_auto_rows": null,
            "grid_gap": null,
            "max_width": null,
            "order": null,
            "_view_module_version": "1.2.0",
            "grid_template_areas": null,
            "object_position": null,
            "object_fit": null,
            "grid_auto_columns": null,
            "margin": null,
            "display": null,
            "left": null
          }
        },
        "365faa3a520e4303919d30becf65966b": {
          "model_module": "@jupyter-widgets/controls",
          "model_name": "FloatProgressModel",
          "state": {
            "_view_name": "ProgressView",
            "style": "IPY_MODEL_d73590e7fe564156a06ffe11a75a9947",
            "_dom_classes": [],
            "description": "100%",
            "_model_name": "FloatProgressModel",
            "bar_style": "success",
            "max": 6000,
            "_view_module": "@jupyter-widgets/controls",
            "_model_module_version": "1.5.0",
            "value": 6000,
            "_view_count": null,
            "_view_module_version": "1.5.0",
            "orientation": "horizontal",
            "min": 0,
            "description_tooltip": null,
            "_model_module": "@jupyter-widgets/controls",
            "layout": "IPY_MODEL_d01037ffc16f4fe4aed508744d7a183f"
          }
        },
        "630c8e6be29c4b3f9a50b6e64c2da18d": {
          "model_module": "@jupyter-widgets/controls",
          "model_name": "HTMLModel",
          "state": {
            "_view_name": "HTMLView",
            "style": "IPY_MODEL_b062da4dfb9646dfba18ab10cbfbf1cb",
            "_dom_classes": [],
            "description": "",
            "_model_name": "HTMLModel",
            "placeholder": "​",
            "_view_module": "@jupyter-widgets/controls",
            "_model_module_version": "1.5.0",
            "value": " 6000/6000 [00:19&lt;00:00, 305.31it/s]",
            "_view_count": null,
            "_view_module_version": "1.5.0",
            "description_tooltip": null,
            "_model_module": "@jupyter-widgets/controls",
            "layout": "IPY_MODEL_170983221517494ba44ef5274a14f9e8"
          }
        },
        "d73590e7fe564156a06ffe11a75a9947": {
          "model_module": "@jupyter-widgets/controls",
          "model_name": "ProgressStyleModel",
          "state": {
            "_view_name": "StyleView",
            "_model_name": "ProgressStyleModel",
            "description_width": "initial",
            "_view_module": "@jupyter-widgets/base",
            "_model_module_version": "1.5.0",
            "_view_count": null,
            "_view_module_version": "1.2.0",
            "bar_color": null,
            "_model_module": "@jupyter-widgets/controls"
          }
        },
        "d01037ffc16f4fe4aed508744d7a183f": {
          "model_module": "@jupyter-widgets/base",
          "model_name": "LayoutModel",
          "state": {
            "_view_name": "LayoutView",
            "grid_template_rows": null,
            "right": null,
            "justify_content": null,
            "_view_module": "@jupyter-widgets/base",
            "overflow": null,
            "_model_module_version": "1.2.0",
            "_view_count": null,
            "flex_flow": null,
            "width": null,
            "min_width": null,
            "border": null,
            "align_items": null,
            "bottom": null,
            "_model_module": "@jupyter-widgets/base",
            "top": null,
            "grid_column": null,
            "overflow_y": null,
            "overflow_x": null,
            "grid_auto_flow": null,
            "grid_area": null,
            "grid_template_columns": null,
            "flex": null,
            "_model_name": "LayoutModel",
            "justify_items": null,
            "grid_row": null,
            "max_height": null,
            "align_content": null,
            "visibility": null,
            "align_self": null,
            "height": null,
            "min_height": null,
            "padding": null,
            "grid_auto_rows": null,
            "grid_gap": null,
            "max_width": null,
            "order": null,
            "_view_module_version": "1.2.0",
            "grid_template_areas": null,
            "object_position": null,
            "object_fit": null,
            "grid_auto_columns": null,
            "margin": null,
            "display": null,
            "left": null
          }
        },
        "b062da4dfb9646dfba18ab10cbfbf1cb": {
          "model_module": "@jupyter-widgets/controls",
          "model_name": "DescriptionStyleModel",
          "state": {
            "_view_name": "StyleView",
            "_model_name": "DescriptionStyleModel",
            "description_width": "",
            "_view_module": "@jupyter-widgets/base",
            "_model_module_version": "1.5.0",
            "_view_count": null,
            "_view_module_version": "1.2.0",
            "_model_module": "@jupyter-widgets/controls"
          }
        },
        "170983221517494ba44ef5274a14f9e8": {
          "model_module": "@jupyter-widgets/base",
          "model_name": "LayoutModel",
          "state": {
            "_view_name": "LayoutView",
            "grid_template_rows": null,
            "right": null,
            "justify_content": null,
            "_view_module": "@jupyter-widgets/base",
            "overflow": null,
            "_model_module_version": "1.2.0",
            "_view_count": null,
            "flex_flow": null,
            "width": null,
            "min_width": null,
            "border": null,
            "align_items": null,
            "bottom": null,
            "_model_module": "@jupyter-widgets/base",
            "top": null,
            "grid_column": null,
            "overflow_y": null,
            "overflow_x": null,
            "grid_auto_flow": null,
            "grid_area": null,
            "grid_template_columns": null,
            "flex": null,
            "_model_name": "LayoutModel",
            "justify_items": null,
            "grid_row": null,
            "max_height": null,
            "align_content": null,
            "visibility": null,
            "align_self": null,
            "height": null,
            "min_height": null,
            "padding": null,
            "grid_auto_rows": null,
            "grid_gap": null,
            "max_width": null,
            "order": null,
            "_view_module_version": "1.2.0",
            "grid_template_areas": null,
            "object_position": null,
            "object_fit": null,
            "grid_auto_columns": null,
            "margin": null,
            "display": null,
            "left": null
          }
        }
      }
    }
  },
  "cells": [
    {
      "cell_type": "markdown",
      "metadata": {
        "id": "zC5KwRyl6Flp"
      },
      "source": [
        "# Task description\n",
        "- Classify the speakers of given features.\n",
        "- Main goal: Learn how to use transformer.\n",
        "- Baselines:\n",
        "  - Easy: Run sample code and know how to use transformer.\n",
        "  - Medium: Know how to adjust parameters of transformer.\n",
        "  - Hard: Construct [conformer](https://arxiv.org/abs/2005.08100) which is a variety of transformer. \n",
        "\n",
        "- Other links\n",
        "  - Kaggle: [link](https://www.kaggle.com/t/859c9ca9ede14fdea841be627c412322)\n",
        "  - Slide: [link](https://speech.ee.ntu.edu.tw/~hylee/ml/ml2021-course-data/hw/HW04/HW04.pdf)\n",
        "  - Data: [link](https://drive.google.com/file/d/1T0RPnu-Sg5eIPwQPfYysipfcz81MnsYe/view?usp=sharing)\n",
        "  - Video (Chinese): [link](https://www.youtube.com/watch?v=EPerg2UnGaI)\n",
        "  - Video (English): [link](https://www.youtube.com/watch?v=Gpz6AUvCak0)\n",
        "  - Solution for downloading dataset fail.: [link](https://drive.google.com/drive/folders/13T0Pa_WGgQxNkqZk781qhc5T9-zfh19e?usp=sharing)"
      ]
    },
    {
      "cell_type": "markdown",
      "metadata": {
        "id": "TPDoreyypeJE"
      },
      "source": [
        "# Download dataset\n",
        "- **If all download links fail**\n",
        "- **Please follow [here](https://drive.google.com/drive/folders/13T0Pa_WGgQxNkqZk781qhc5T9-zfh19e?usp=sharing)**\n",
        "- **Data is [here](https://drive.google.com/file/d/1T0RPnu-Sg5eIPwQPfYysipfcz81MnsYe/view?usp=sharing)**"
      ]
    },
    {
      "cell_type": "code",
      "metadata": {
        "id": "QvpaILXnJIcw",
        "colab": {
          "base_uri": "https://localhost:8080/"
        },
        "outputId": "330efa06-4dd7-4aac-a03b-fafc874a50e8"
      },
      "source": [
        "\"\"\"\n",
        "    For Google drive, You can download data form any link below.\n",
        "    If a link fails, please use another one.\n",
        "\"\"\"\n",
        "\"\"\" Download link 1 of Google drive \"\"\"\n",
        "# !gdown --id '1T0RPnu-Sg5eIPwQPfYysipfcz81MnsYe' --output Dataset.zip\n",
        "\"\"\" Download link 2 of Google drive \"\"\"\n",
        "# !gdown --id '1CtHZhJ-mTpNsO-MqvAPIi4Yrt3oSBXYV' --output Dataset.zip\n",
        "\"\"\" Download link 3 of Google drive \"\"\"\n",
        "# !gdown --id '14hmoMgB1fe6v50biIceKyndyeYABGrRq' --output Dataset.zip\n",
        "\"\"\" Download link 4 of Google drive \"\"\"\n",
        "# !gdown --id '1e9x-Pjl3n7-9tK9LS_WjiMo2lru4UBH9' --output Dataset.zip\n",
        "\"\"\" Download link 5 of Google drive \"\"\"\n",
        "# !gdown --id '10TC0g46bcAz_jkiMl65zNmwttT4RiRgY' --output Dataset.zip\n",
        "\"\"\" Download link 6 of Google drive \"\"\"\n",
        "# !gdown --id '1MUGBvG_JjqO0C2JYHuyV3B0lvaf1kWIm' --output Dataset.zip\n",
        "\"\"\" Download link 7 of Google drive \"\"\"\n",
        "# !gdown --id '18M91P5DHwILNyOlssZ57AiPOR0OwutOM' --output Dataset.zip\n",
        "\"\"\" For all download links fail, Please paste link into 'Paste link here' \"\"\"\n",
        "# !gdown --id 'Paste link here' --output Dataset.zip\n",
        "\"\"\" For Google drive, you can unzip the data by the command below. \"\"\"\n",
        "# !unzip /content/drive/MyDrive/Dataset.zip\n",
        "\n",
        "\"\"\"\n",
        "    For Dropbox, we split dataset into five files. \n",
        "    Please download all of them.\n",
        "\"\"\"\n",
        "# If Dropbox is not work. Please use google drive.\n",
        "# !wget https://www.dropbox.com/s/vw324newiku0sz0/Dataset.tar.gz.aa?dl=0\n",
        "# !wget https://www.dropbox.com/s/z840g69e7lnkayo/Dataset.tar.gz.ab?dl=0\n",
        "# !wget https://www.dropbox.com/s/hl081e1ggonio81/Dataset.tar.gz.ac?dl=0\n",
        "# !wget https://www.dropbox.com/s/fh3zd8ow668c4th/Dataset.tar.gz.ad?dl=0\n",
        "# !wget https://www.dropbox.com/s/ydzygoy2pv6gw9d/Dataset.tar.gz.ae?dl=0\n",
        "# cat Dataset.tar.gz.* | tar zxvf -\n",
        "\n",
        "\"\"\"\n",
        "    For Onedrive, we split dataset into five files. \n",
        "    Please download all of them.\n",
        "\"\"\"\n",
        "# !wget --no-check-certificate \"https://onedrive.live.com/download?cid=10C95EE5FD151BFB&resid=10C95EE5FD151BFB%21106&authkey=ACB6opQR3CG9kmc\" -O Dataset.tar.gz.aa\n",
        "# !wget --no-check-certificate \"https://onedrive.live.com/download?cid=93DDDDD552E145DB&resid=93DDDDD552E145DB%21106&authkey=AP6EepjxSdvyV6Y\" -O Dataset.tar.gz.ab\n",
        "# !wget --no-check-certificate \"https://onedrive.live.com/download?cid=644545816461BCCC&resid=644545816461BCCC%21106&authkey=ALiefB0kI7Epb0Q\" -O Dataset.tar.gz.ac\n",
        "# !wget --no-check-certificate \"https://onedrive.live.com/download?cid=77CEBB3C3C512821&resid=77CEBB3C3C512821%21106&authkey=AAXCx4TTDYC0yjM\" -O Dataset.tar.gz.ad\n",
        "# !wget --no-check-certificate \"https://onedrive.live.com/download?cid=383D0E0146A11B02&resid=383D0E0146A11B02%21106&authkey=ALwVc4StVbig6QI\" -O Dataset.tar.gz.ae\n",
        "# !cat Dataset.tar.gz.* | tar zxvf -\n",
        "gpu_info = !nvidia-smi\n",
        "gpu_info = '\\n'.join(gpu_info)\n",
        "if gpu_info.find('failed') >= 0:\n",
        "  print('Select the Runtime > \"Change runtime type\" menu to enable a GPU accelerator, ')\n",
        "  print('and then re-execute this cell.')\n",
        "else:\n",
        "  print(gpu_info)"
      ],
      "execution_count": 46,
      "outputs": [
        {
          "output_type": "stream",
          "text": [
            "Thu Apr 15 15:10:51 2021       \n",
            "+-----------------------------------------------------------------------------+\n",
            "| NVIDIA-SMI 460.67       Driver Version: 460.32.03    CUDA Version: 11.2     |\n",
            "|-------------------------------+----------------------+----------------------+\n",
            "| GPU  Name        Persistence-M| Bus-Id        Disp.A | Volatile Uncorr. ECC |\n",
            "| Fan  Temp  Perf  Pwr:Usage/Cap|         Memory-Usage | GPU-Util  Compute M. |\n",
            "|                               |                      |               MIG M. |\n",
            "|===============================+======================+======================|\n",
            "|   0  Tesla V100-SXM2...  Off  | 00000000:00:04.0 Off |                    0 |\n",
            "| N/A   37C    P0    37W / 300W |  13813MiB / 16160MiB |      0%      Default |\n",
            "|                               |                      |                  N/A |\n",
            "+-------------------------------+----------------------+----------------------+\n",
            "                                                                               \n",
            "+-----------------------------------------------------------------------------+\n",
            "| Processes:                                                                  |\n",
            "|  GPU   GI   CI        PID   Type   Process name                  GPU Memory |\n",
            "|        ID   ID                                                   Usage      |\n",
            "|=============================================================================|\n",
            "+-----------------------------------------------------------------------------+\n"
          ],
          "name": "stdout"
        }
      ]
    },
    {
      "cell_type": "code",
      "metadata": {
        "colab": {
          "base_uri": "https://localhost:8080/"
        },
        "id": "4PsmtUYi4mj9",
        "outputId": "a54f4a73-43ac-4f6b-934e-d761a7f827aa"
      },
      "source": [
        "from google.colab import drive\n",
        "drive.mount('/content/drive')"
      ],
      "execution_count": 47,
      "outputs": [
        {
          "output_type": "stream",
          "text": [
            "Drive already mounted at /content/drive; to attempt to forcibly remount, call drive.mount(\"/content/drive\", force_remount=True).\n"
          ],
          "name": "stdout"
        }
      ]
    },
    {
      "cell_type": "markdown",
      "metadata": {
        "id": "v1gYr_aoNDue"
      },
      "source": [
        ""
      ]
    },
    {
      "cell_type": "markdown",
      "metadata": {
        "id": "Mz_NpuAipk3h"
      },
      "source": [
        "## Dataset\n",
        "- Original dataset is [Voxceleb1](https://www.robots.ox.ac.uk/~vgg/data/voxceleb/).\n",
        "- The [license](https://creativecommons.org/licenses/by/4.0/) and [complete version](https://www.robots.ox.ac.uk/~vgg/data/voxceleb/files/license.txt) of Voxceleb1.\n",
        "- We randomly select 600 speakers from Voxceleb1.\n",
        "- Then preprocess the raw waveforms into mel-spectrograms.\n",
        "\n",
        "- Args:\n",
        "  - data_dir: The path to the data directory.\n",
        "  - metadata_path: The path to the metadata.\n",
        "  - segment_len: The length of audio segment for training. \n",
        "- The architecture of data directory \\\\\n",
        "  - data directory \\\\\n",
        "  |---- metadata.json \\\\\n",
        "  |---- testdata.json \\\\\n",
        "  |---- mapping.json \\\\\n",
        "  |---- uttr-{random string}.pt \\\\\n",
        "\n",
        "- The information in metadata\n",
        "  - \"n_mels\": The dimention of mel-spectrogram.\n",
        "  - \"speakers\": A dictionary. \n",
        "    - Key: speaker ids.\n",
        "    - value: \"feature_path\" and \"mel_len\"\n",
        "\n",
        "\n",
        "For efficiency, we segment the mel-spectrograms into segments in the traing step."
      ]
    },
    {
      "cell_type": "code",
      "metadata": {
        "id": "cd7hoGhYtbXQ"
      },
      "source": [
        "import os\n",
        "import json\n",
        "import torch\n",
        "import random\n",
        "from pathlib import Path\n",
        "from torch.utils.data import Dataset\n",
        "from torch.nn.utils.rnn import pad_sequence\n",
        " \n",
        " \n",
        "class myDataset(Dataset):\n",
        "  def __init__(self, data_dir, segment_len=128):\n",
        "    self.data_dir = data_dir\n",
        "    self.segment_len = segment_len\n",
        " \n",
        "    # Load the mapping from speaker neme to their corresponding id. \n",
        "    mapping_path = Path(data_dir) / \"mapping.json\"\n",
        "    mapping = json.load(mapping_path.open())\n",
        "    self.speaker2id = mapping[\"speaker2id\"]\n",
        " \n",
        "    # Load metadata of training data.\n",
        "    metadata_path = Path(data_dir) / \"metadata.json\"\n",
        "    metadata = json.load(open(metadata_path))[\"speakers\"]\n",
        " \n",
        "    # Get the total number of speaker.\n",
        "    self.speaker_num = len(metadata.keys())\n",
        "    self.data = []\n",
        "    for speaker in metadata.keys():\n",
        "      for utterances in metadata[speaker]:\n",
        "        self.data.append([utterances[\"feature_path\"], self.speaker2id[speaker]])\n",
        " \n",
        "  def __len__(self):\n",
        "    return len(self.data)\n",
        " \n",
        "  def __getitem__(self, index):\n",
        "    feat_path, speaker = self.data[index]\n",
        "    # Load preprocessed mel-spectrogram.\n",
        "    mel = torch.load(os.path.join(self.data_dir, feat_path))\n",
        " \n",
        "    # Segmemt mel-spectrogram into \"segment_len\" frames.\n",
        "    if len(mel) > self.segment_len:\n",
        "      # Randomly get the starting point of the segment.\n",
        "      start = random.randint(0, len(mel) - self.segment_len)\n",
        "      # Get a segment with \"segment_len\" frames.\n",
        "      mel = torch.FloatTensor(mel[start:start+self.segment_len])\n",
        "    else:\n",
        "      mel = torch.FloatTensor(mel)\n",
        "    # Turn the speaker id into long for computing loss later.\n",
        "    speaker = torch.FloatTensor([speaker]).long()\n",
        "    return mel, speaker\n",
        " \n",
        "  def get_speaker_number(self):\n",
        "    return self.speaker_num"
      ],
      "execution_count": 48,
      "outputs": []
    },
    {
      "cell_type": "markdown",
      "metadata": {
        "id": "mqJxjoi_NGnB"
      },
      "source": [
        "## Dataloader\n",
        "- Split dataset into training dataset(90%) and validation dataset(10%).\n",
        "- Create dataloader to iterate the data.\n"
      ]
    },
    {
      "cell_type": "code",
      "metadata": {
        "id": "zuT1AuFENI8t"
      },
      "source": [
        "import torch\n",
        "from torch.utils.data import DataLoader, random_split\n",
        "from torch.nn.utils.rnn import pad_sequence\n",
        "\n",
        "\n",
        "def collate_batch(batch):\n",
        "  # Process features within a batch.\n",
        "  \"\"\"Collate a batch of data.\"\"\"\n",
        "  mel, speaker = zip(*batch)\n",
        "  # Because we train the model batch by batch, we need to pad the features in the same batch to make their lengths the same.\n",
        "  mel = pad_sequence(mel, batch_first=True, padding_value=-20)    # pad log 10^(-20) which is very small value.\n",
        "  # mel: (batch size, length, 40)\n",
        "  return mel, torch.FloatTensor(speaker).long()\n",
        "\n",
        "\n",
        "def get_dataloader(data_dir, batch_size, n_workers):\n",
        "  \"\"\"Generate dataloader\"\"\"\n",
        "  dataset = myDataset(data_dir)\n",
        "  speaker_num = dataset.get_speaker_number()\n",
        "  # Split dataset into training dataset and validation dataset\n",
        "  trainlen = int(0.9 * len(dataset))\n",
        "  lengths = [trainlen, len(dataset) - trainlen]\n",
        "  trainset, validset = random_split(dataset, lengths)\n",
        "\n",
        "  train_loader = DataLoader(\n",
        "    trainset,\n",
        "    batch_size=batch_size,\n",
        "    shuffle=True,\n",
        "    drop_last=True,\n",
        "    num_workers=n_workers,\n",
        "    pin_memory=True,\n",
        "    collate_fn=collate_batch,\n",
        "  )\n",
        "  valid_loader = DataLoader(\n",
        "    validset,\n",
        "    batch_size=batch_size,\n",
        "    num_workers=n_workers,\n",
        "    drop_last=True,\n",
        "    pin_memory=True,\n",
        "    collate_fn=collate_batch,\n",
        "  )\n",
        "\n",
        "  return train_loader, valid_loader, speaker_num\n"
      ],
      "execution_count": 49,
      "outputs": []
    },
    {
      "cell_type": "markdown",
      "metadata": {
        "id": "X0x6eXiHpr4R"
      },
      "source": [
        "# Model\n",
        "- TransformerEncoderLayer:\n",
        "  - Base transformer encoder layer in [Attention Is All You Need](https://arxiv.org/abs/1706.03762)\n",
        "  - Parameters:\n",
        "    - d_model: the number of expected features of the input (required).\n",
        "\n",
        "    - nhead: the number of heads of the multiheadattention models (required).\n",
        "\n",
        "    - dim_feedforward: the dimension of the feedforward network model (default=2048).\n",
        "\n",
        "    - dropout: the dropout value (default=0.1).\n",
        "\n",
        "    - activation: the activation function of intermediate layer, relu or gelu (default=relu).\n",
        "\n",
        "- TransformerEncoder:\n",
        "  - TransformerEncoder is a stack of N transformer encoder layers\n",
        "  - Parameters:\n",
        "    - encoder_layer: an instance of the TransformerEncoderLayer() class (required).\n",
        "\n",
        "    - num_layers: the number of sub-encoder-layers in the encoder (required).\n",
        "\n",
        "    - norm: the layer normalization component (optional)."
      ]
    },
    {
      "cell_type": "code",
      "metadata": {
        "id": "SHX4eVj4tjtd"
      },
      "source": [
        "import torch\n",
        "import torch.nn as nn\n",
        "import torch.nn.functional as F\n",
        "\n",
        "\n",
        "class Classifier(nn.Module):\n",
        "  def __init__(self, d_model=160, n_spks=600, dropout=0.1): #d_model 250\n",
        "    super().__init__()\n",
        "    # Project the dimension of features from that of input into d_model.\n",
        "    self.prenet = nn.Linear(40, d_model)\n",
        "    # TODO:\n",
        "    #   Change Transformer to Conformer.\n",
        "    #   https://arxiv.org/abs/2005.08100\n",
        "    self.encoder_layer = nn.TransformerEncoderLayer(\n",
        "      d_model=d_model, dim_feedforward=256, nhead=4 #nhead 10\n",
        "    )\n",
        "    self.encoder = nn.TransformerEncoder(self.encoder_layer, num_layers=3)#numlayer 8\n",
        "\n",
        "    # Project the the dimension of features from d_model into speaker nums.\n",
        "    self.pred_layer = nn.Sequential(\n",
        "      #nn.Linear(d_model, d_model),\n",
        "      nn.ReLU(),\n",
        "      nn.Linear(d_model, n_spks),\n",
        "    )\n",
        "\n",
        "  def forward(self, mels):\n",
        "    \"\"\"\n",
        "    args:\n",
        "      mels: (batch size, length, 40)\n",
        "    return:\n",
        "      out: (batch size, n_spks)\n",
        "    \"\"\"\n",
        "    # out: (batch size, length, d_model)\n",
        "    out = self.prenet(mels)\n",
        "    # out: (length, batch size, d_model)\n",
        "    out = out.permute(1, 0, 2)\n",
        "    # The encoder layer expect features in the shape of (length, batch size, d_model).\n",
        "    out = self.encoder(out)\n",
        "    # out: (batch size, length, d_model)\n",
        "    out = out.transpose(0, 1)\n",
        "    # mean pooling\n",
        "    stats = out.mean(dim=1)\n",
        "\n",
        "    # out: (batch, n_spks)\n",
        "    out = self.pred_layer(stats)\n",
        "    return out\n"
      ],
      "execution_count": 50,
      "outputs": []
    },
    {
      "cell_type": "markdown",
      "metadata": {
        "id": "-__DolPGpvDZ"
      },
      "source": [
        "# Learning rate schedule\n",
        "- For transformer architecture, the design of learning rate schedule is different from that of CNN.\n",
        "- Previous works show that the warmup of learning rate is useful for training models with transformer architectures.\n",
        "- The warmup schedule\n",
        "  - Set learning rate to 0 in the beginning.\n",
        "  - The learning rate increases linearly from 0 to initial learning rate during warmup period."
      ]
    },
    {
      "cell_type": "code",
      "metadata": {
        "id": "K-0816BntqT9"
      },
      "source": [
        "import math\n",
        "\n",
        "import torch\n",
        "from torch.optim import Optimizer\n",
        "from torch.optim.lr_scheduler import LambdaLR\n",
        "\n",
        "\n",
        "def get_cosine_schedule_with_warmup(\n",
        "  optimizer: Optimizer,\n",
        "  num_warmup_steps: int,\n",
        "  num_training_steps: int,\n",
        "  num_cycles: float = 0.5,\n",
        "  last_epoch: int = -1,\n",
        "):\n",
        "  \"\"\"\n",
        "  Create a schedule with a learning rate that decreases following the values of the cosine function between the\n",
        "  initial lr set in the optimizer to 0, after a warmup period during which it increases linearly between 0 and the\n",
        "  initial lr set in the optimizer.\n",
        "\n",
        "  Args:\n",
        "    optimizer (:class:`~torch.optim.Optimizer`):\n",
        "      The optimizer for which to schedule the learning rate.\n",
        "    num_warmup_steps (:obj:`int`):\n",
        "      The number of steps for the warmup phase.\n",
        "    num_training_steps (:obj:`int`):\n",
        "      The total number of training steps.\n",
        "    num_cycles (:obj:`float`, `optional`, defaults to 0.5):\n",
        "      The number of waves in the cosine schedule (the defaults is to just decrease from the max value to 0\n",
        "      following a half-cosine).\n",
        "    last_epoch (:obj:`int`, `optional`, defaults to -1):\n",
        "      The index of the last epoch when resuming training.\n",
        "\n",
        "  Return:\n",
        "    :obj:`torch.optim.lr_scheduler.LambdaLR` with the appropriate schedule.\n",
        "  \"\"\"\n",
        "\n",
        "  def lr_lambda(current_step):\n",
        "    # Warmup\n",
        "    if current_step < num_warmup_steps:\n",
        "      return float(current_step) / float(max(1, num_warmup_steps))\n",
        "    # decadence\n",
        "    progress = float(current_step - num_warmup_steps) / float(\n",
        "      max(1, num_training_steps - num_warmup_steps)\n",
        "    )\n",
        "    return max(\n",
        "      0.0, 0.5 * (1.0 + math.cos(math.pi * float(num_cycles) * 2.0 * progress))\n",
        "    )\n",
        "\n",
        "  return LambdaLR(optimizer, lr_lambda, last_epoch)\n"
      ],
      "execution_count": 51,
      "outputs": []
    },
    {
      "cell_type": "markdown",
      "metadata": {
        "id": "IP03FFo9K8DS"
      },
      "source": [
        "# Model Function\n",
        "- Model forward function."
      ]
    },
    {
      "cell_type": "code",
      "metadata": {
        "id": "fohaLEFJK9-t"
      },
      "source": [
        "import torch\n",
        "\n",
        "\n",
        "def model_fn(batch, model, criterion, device):\n",
        "  \"\"\"Forward a batch through the model.\"\"\"\n",
        "\n",
        "  mels, labels = batch\n",
        "  mels = mels.to(device)\n",
        "  labels = labels.to(device)\n",
        "\n",
        "  outs = model(mels)\n",
        "\n",
        "  loss = criterion(outs, labels)\n",
        "\n",
        "  # Get the speaker id with highest probability.\n",
        "  preds = outs.argmax(1)\n",
        "  # Compute accuracy.\n",
        "  accuracy = torch.mean((preds == labels).float())\n",
        "\n",
        "  return loss, accuracy\n"
      ],
      "execution_count": 52,
      "outputs": []
    },
    {
      "cell_type": "markdown",
      "metadata": {
        "id": "F7cg-YrzLQcf"
      },
      "source": [
        "# Validate\n",
        "- Calculate accuracy of the validation set."
      ]
    },
    {
      "cell_type": "code",
      "metadata": {
        "id": "mD-_p6nWLO2L"
      },
      "source": [
        "from tqdm import tqdm\n",
        "import torch\n",
        "\n",
        "\n",
        "def valid(dataloader, model, criterion, device): \n",
        "  \"\"\"Validate on validation set.\"\"\"\n",
        "\n",
        "  model.eval()\n",
        "  running_loss = 0.0\n",
        "  running_accuracy = 0.0\n",
        "  pbar = tqdm(total=len(dataloader.dataset), ncols=0, desc=\"Valid\", unit=\" uttr\")\n",
        "\n",
        "  for i, batch in enumerate(dataloader):\n",
        "    with torch.no_grad():\n",
        "      loss, accuracy = model_fn(batch, model, criterion, device)\n",
        "      running_loss += loss.item()\n",
        "      running_accuracy += accuracy.item()\n",
        "\n",
        "    pbar.update(dataloader.batch_size)\n",
        "    pbar.set_postfix(\n",
        "      loss=f\"{running_loss / (i+1):.2f}\",\n",
        "      accuracy=f\"{running_accuracy / (i+1):.2f}\",\n",
        "    )\n",
        "\n",
        "  pbar.close()\n",
        "  model.train()\n",
        "\n",
        "  return running_accuracy / len(dataloader)\n"
      ],
      "execution_count": 53,
      "outputs": []
    },
    {
      "cell_type": "markdown",
      "metadata": {
        "id": "noHXyal5p1W5"
      },
      "source": [
        "# Main function"
      ]
    },
    {
      "cell_type": "code",
      "metadata": {
        "id": "chRQE7oYtw62",
        "colab": {
          "base_uri": "https://localhost:8080/"
        },
        "outputId": "298cb14e-9c69-45ca-ca7f-b591a6eec470"
      },
      "source": [
        "from tqdm import tqdm\n",
        "\n",
        "import torch\n",
        "import torch.nn as nn\n",
        "from torch.optim import AdamW\n",
        "from torch.utils.data import DataLoader, random_split\n",
        "\n",
        "\n",
        "def parse_args():\n",
        "  \"\"\"arguments\"\"\"\n",
        "  config = {\n",
        "    \"data_dir\": \"./Dataset\",\n",
        "    \"save_path\": \"model.ckpt\",\n",
        "    \"batch_size\": 128,\n",
        "    \"n_workers\": 8,\n",
        "    \"valid_steps\": 2000,\n",
        "    \"warmup_steps\": 1000,\n",
        "    \"save_steps\": 10000,\n",
        "    \"total_steps\": 150000,\n",
        "  }\n",
        "\n",
        "  return config\n",
        "\n",
        "\n",
        "def main(\n",
        "  data_dir,\n",
        "  save_path,\n",
        "  batch_size,\n",
        "  n_workers,\n",
        "  valid_steps,\n",
        "  warmup_steps,\n",
        "  total_steps,\n",
        "  save_steps,\n",
        "):\n",
        "  \"\"\"Main function.\"\"\"\n",
        "  device = torch.device(\"cuda\" if torch.cuda.is_available() else \"cpu\")\n",
        "  print(f\"[Info]: Use {device} now!\")\n",
        "\n",
        "  train_loader, valid_loader, speaker_num = get_dataloader(data_dir, batch_size, n_workers)\n",
        "  train_iterator = iter(train_loader)\n",
        "  print(f\"[Info]: Finish loading data!\",flush = True)\n",
        "\n",
        "  model = Classifier(n_spks=speaker_num).to(device)\n",
        "  criterion = nn.CrossEntropyLoss()\n",
        "  optimizer = AdamW(model.parameters(), lr=1e-3)\n",
        "  scheduler = get_cosine_schedule_with_warmup(optimizer, warmup_steps, total_steps)\n",
        "  print(f\"[Info]: Finish creating model!\",flush = True)\n",
        "\n",
        "  best_accuracy = -1.0\n",
        "  best_state_dict = None\n",
        "\n",
        "  pbar = tqdm(total=valid_steps, ncols=0, desc=\"Train\", unit=\" step\")\n",
        "\n",
        "  for step in range(total_steps):\n",
        "    # Get data\n",
        "    try:\n",
        "      batch = next(train_iterator)\n",
        "    except StopIteration:\n",
        "      train_iterator = iter(train_loader)\n",
        "      batch = next(train_iterator)\n",
        "\n",
        "    loss, accuracy = model_fn(batch, model, criterion, device)\n",
        "    batch_loss = loss.item()\n",
        "    batch_accuracy = accuracy.item()\n",
        "\n",
        "    # Updata model\n",
        "    loss.backward()\n",
        "    optimizer.step()\n",
        "    scheduler.step()\n",
        "    optimizer.zero_grad()\n",
        "    \n",
        "    # Log\n",
        "    pbar.update()\n",
        "    pbar.set_postfix(\n",
        "      loss=f\"{batch_loss:.2f}\",\n",
        "      accuracy=f\"{batch_accuracy:.2f}\",\n",
        "      step=step + 1,\n",
        "    )\n",
        "\n",
        "    # Do validation\n",
        "    if (step + 1) % valid_steps == 0:\n",
        "      pbar.close()\n",
        "\n",
        "      valid_accuracy = valid(valid_loader, model, criterion, device)\n",
        "\n",
        "      # keep the best model\n",
        "      if valid_accuracy > best_accuracy:\n",
        "        best_accuracy = valid_accuracy\n",
        "        best_state_dict = model.state_dict()\n",
        "\n",
        "      pbar = tqdm(total=valid_steps, ncols=0, desc=\"Train\", unit=\" step\")\n",
        "\n",
        "    # Save the best model so far.\n",
        "    if (step + 1) % save_steps == 0 and best_state_dict is not None:\n",
        "      torch.save(best_state_dict, save_path)\n",
        "      pbar.write(f\"Step {step + 1}, best model saved. (accuracy={best_accuracy:.4f})\")\n",
        "\n",
        "  pbar.close()\n",
        "\n",
        "\n",
        "if __name__ == \"__main__\":\n",
        "  main(**parse_args())\n"
      ],
      "execution_count": 54,
      "outputs": [
        {
          "output_type": "stream",
          "text": [
            "[Info]: Use cuda now!\n"
          ],
          "name": "stdout"
        },
        {
          "output_type": "stream",
          "text": [
            "/usr/local/lib/python3.7/dist-packages/torch/utils/data/dataloader.py:477: UserWarning: This DataLoader will create 8 worker processes in total. Our suggested max number of worker in current system is 4, which is smaller than what this DataLoader is going to create. Please be aware that excessive worker creation might get DataLoader running slow or even freeze, lower the worker number to avoid potential slowness/freeze if necessary.\n",
            "  cpuset_checked))\n"
          ],
          "name": "stderr"
        },
        {
          "output_type": "stream",
          "text": [
            "[Info]: Finish loading data!\n",
            "[Info]: Finish creating model!\n"
          ],
          "name": "stdout"
        },
        {
          "output_type": "stream",
          "text": [
            "Train: 100% 2000/2000 [00:50<00:00, 39.75 step/s, accuracy=0.41, loss=2.49, step=2000]\n",
            "Valid: 100% 6912/6944 [00:01<00:00, 4212.27 uttr/s, accuracy=0.48, loss=2.31]\n",
            "Train: 100% 2000/2000 [00:49<00:00, 40.47 step/s, accuracy=0.62, loss=1.48, step=4000]\n",
            "Valid: 100% 6912/6944 [00:01<00:00, 4333.41 uttr/s, accuracy=0.64, loss=1.58]\n",
            "Train: 100% 2000/2000 [00:49<00:00, 40.73 step/s, accuracy=0.69, loss=1.32, step=6000]\n",
            "Valid: 100% 6912/6944 [00:01<00:00, 4409.03 uttr/s, accuracy=0.68, loss=1.36]\n",
            "Train: 100% 2000/2000 [00:48<00:00, 40.99 step/s, accuracy=0.75, loss=1.02, step=8000]\n",
            "Valid: 100% 6912/6944 [00:01<00:00, 4366.08 uttr/s, accuracy=0.71, loss=1.22]\n",
            "Train: 100% 2000/2000 [00:48<00:00, 41.14 step/s, accuracy=0.84, loss=0.60, step=1e+4]\n",
            "Valid: 100% 6912/6944 [00:01<00:00, 4300.05 uttr/s, accuracy=0.74, loss=1.14]\n",
            "Train:   0% 9/2000 [00:00<00:49, 40.46 step/s, accuracy=0.80, loss=0.71, step=1e+4]"
          ],
          "name": "stderr"
        },
        {
          "output_type": "stream",
          "text": [
            "Step 10000, best model saved. (accuracy=0.7358)\n"
          ],
          "name": "stdout"
        },
        {
          "output_type": "stream",
          "text": [
            "Train: 100% 2000/2000 [00:48<00:00, 40.91 step/s, accuracy=0.80, loss=0.70, step=12000]\n",
            "Valid: 100% 6912/6944 [00:01<00:00, 4298.69 uttr/s, accuracy=0.76, loss=1.04]\n",
            "Train: 100% 2000/2000 [00:49<00:00, 40.27 step/s, accuracy=0.83, loss=0.67, step=14000]\n",
            "Valid: 100% 6912/6944 [00:01<00:00, 4300.19 uttr/s, accuracy=0.77, loss=1.02]\n",
            "Train: 100% 2000/2000 [00:49<00:00, 40.28 step/s, accuracy=0.83, loss=0.65, step=16000]\n",
            "Valid: 100% 6912/6944 [00:01<00:00, 4209.78 uttr/s, accuracy=0.78, loss=0.98]\n",
            "Train: 100% 2000/2000 [00:49<00:00, 40.22 step/s, accuracy=0.84, loss=0.68, step=18000]\n",
            "Valid: 100% 6912/6944 [00:01<00:00, 4217.48 uttr/s, accuracy=0.77, loss=0.97]\n",
            "Train: 100% 2000/2000 [00:49<00:00, 40.07 step/s, accuracy=0.86, loss=0.42, step=2e+4]\n",
            "Valid: 100% 6912/6944 [00:01<00:00, 4229.32 uttr/s, accuracy=0.78, loss=0.97]\n",
            "Train:   0% 8/2000 [00:00<00:44, 44.32 step/s, accuracy=0.86, loss=0.51, step=2e+4]"
          ],
          "name": "stderr"
        },
        {
          "output_type": "stream",
          "text": [
            "Step 20000, best model saved. (accuracy=0.7837)\n"
          ],
          "name": "stdout"
        },
        {
          "output_type": "stream",
          "text": [
            "Train: 100% 2000/2000 [00:50<00:00, 39.72 step/s, accuracy=0.90, loss=0.37, step=22000]\n",
            "Valid: 100% 6912/6944 [00:01<00:00, 4192.59 uttr/s, accuracy=0.80, loss=0.87]\n",
            "Train: 100% 2000/2000 [00:49<00:00, 40.41 step/s, accuracy=0.91, loss=0.46, step=24000]\n",
            "Valid: 100% 6912/6944 [00:01<00:00, 4334.95 uttr/s, accuracy=0.80, loss=0.86]\n",
            "Train: 100% 2000/2000 [00:49<00:00, 40.25 step/s, accuracy=0.92, loss=0.21, step=26000]\n",
            "Valid: 100% 6912/6944 [00:01<00:00, 4379.52 uttr/s, accuracy=0.79, loss=0.90]\n",
            "Train: 100% 2000/2000 [00:49<00:00, 40.32 step/s, accuracy=0.89, loss=0.38, step=28000]\n",
            "Valid: 100% 6912/6944 [00:01<00:00, 4339.52 uttr/s, accuracy=0.80, loss=0.86]\n",
            "Train: 100% 2000/2000 [00:49<00:00, 40.50 step/s, accuracy=0.88, loss=0.42, step=3e+4]\n",
            "Valid: 100% 6912/6944 [00:01<00:00, 4334.14 uttr/s, accuracy=0.82, loss=0.80]\n",
            "Train:   0% 8/2000 [00:00<00:53, 37.29 step/s, accuracy=0.91, loss=0.36, step=3e+4]"
          ],
          "name": "stderr"
        },
        {
          "output_type": "stream",
          "text": [
            "Step 30000, best model saved. (accuracy=0.8171)\n"
          ],
          "name": "stdout"
        },
        {
          "output_type": "stream",
          "text": [
            "Train: 100% 2000/2000 [00:49<00:00, 40.21 step/s, accuracy=0.87, loss=0.41, step=32000]\n",
            "Valid: 100% 6912/6944 [00:01<00:00, 4320.04 uttr/s, accuracy=0.81, loss=0.87]\n",
            "Train: 100% 2000/2000 [00:49<00:00, 40.52 step/s, accuracy=0.90, loss=0.31, step=34000]\n",
            "Valid: 100% 6912/6944 [00:01<00:00, 4322.61 uttr/s, accuracy=0.82, loss=0.79]\n",
            "Train: 100% 2000/2000 [00:49<00:00, 40.41 step/s, accuracy=0.90, loss=0.30, step=36000]\n",
            "Valid: 100% 6912/6944 [00:01<00:00, 4275.84 uttr/s, accuracy=0.83, loss=0.77]\n",
            "Train: 100% 2000/2000 [00:49<00:00, 40.20 step/s, accuracy=0.94, loss=0.22, step=38000]\n",
            "Valid: 100% 6912/6944 [00:01<00:00, 4271.82 uttr/s, accuracy=0.82, loss=0.81]\n",
            "Train: 100% 2000/2000 [00:49<00:00, 40.38 step/s, accuracy=0.89, loss=0.39, step=4e+4]\n",
            "Valid: 100% 6912/6944 [00:01<00:00, 4229.75 uttr/s, accuracy=0.83, loss=0.78]\n",
            "Train:   0% 10/2000 [00:00<00:47, 42.00 step/s, accuracy=0.90, loss=0.31, step=4e+4]"
          ],
          "name": "stderr"
        },
        {
          "output_type": "stream",
          "text": [
            "Step 40000, best model saved. (accuracy=0.8319)\n"
          ],
          "name": "stdout"
        },
        {
          "output_type": "stream",
          "text": [
            "Train: 100% 2000/2000 [00:50<00:00, 39.67 step/s, accuracy=0.93, loss=0.24, step=42000]\n",
            "Valid: 100% 6912/6944 [00:01<00:00, 4301.57 uttr/s, accuracy=0.83, loss=0.75]\n",
            "Train: 100% 2000/2000 [00:49<00:00, 40.33 step/s, accuracy=0.93, loss=0.33, step=44000]\n",
            "Valid: 100% 6912/6944 [00:01<00:00, 4302.91 uttr/s, accuracy=0.84, loss=0.73]\n",
            "Train: 100% 2000/2000 [00:49<00:00, 40.41 step/s, accuracy=0.95, loss=0.23, step=46000]\n",
            "Valid: 100% 6912/6944 [00:01<00:00, 4295.64 uttr/s, accuracy=0.82, loss=0.81]\n",
            "Train: 100% 2000/2000 [00:49<00:00, 40.37 step/s, accuracy=0.93, loss=0.25, step=48000]\n",
            "Valid: 100% 6912/6944 [00:01<00:00, 4337.22 uttr/s, accuracy=0.83, loss=0.76]\n",
            "Train: 100% 2000/2000 [00:49<00:00, 40.17 step/s, accuracy=0.88, loss=0.37, step=5e+4]\n",
            "Valid: 100% 6912/6944 [00:01<00:00, 4226.22 uttr/s, accuracy=0.85, loss=0.69]\n",
            "Train:   0% 8/2000 [00:00<00:55, 36.06 step/s, accuracy=0.95, loss=0.28, step=5e+4]"
          ],
          "name": "stderr"
        },
        {
          "output_type": "stream",
          "text": [
            "Step 50000, best model saved. (accuracy=0.8529)\n"
          ],
          "name": "stdout"
        },
        {
          "output_type": "stream",
          "text": [
            "Train: 100% 2000/2000 [00:49<00:00, 40.32 step/s, accuracy=0.92, loss=0.23, step=52000]\n",
            "Valid: 100% 6912/6944 [00:01<00:00, 4234.22 uttr/s, accuracy=0.85, loss=0.71]\n",
            "Train: 100% 2000/2000 [00:49<00:00, 40.08 step/s, accuracy=0.94, loss=0.25, step=54000]\n",
            "Valid: 100% 6912/6944 [00:01<00:00, 4307.19 uttr/s, accuracy=0.85, loss=0.72]\n",
            "Train: 100% 2000/2000 [00:49<00:00, 40.24 step/s, accuracy=0.95, loss=0.21, step=56000]\n",
            "Valid: 100% 6912/6944 [00:01<00:00, 4191.30 uttr/s, accuracy=0.85, loss=0.69]\n",
            "Train: 100% 2000/2000 [00:49<00:00, 40.14 step/s, accuracy=0.91, loss=0.26, step=58000]\n",
            "Valid: 100% 6912/6944 [00:01<00:00, 4320.74 uttr/s, accuracy=0.85, loss=0.71]\n",
            "Train: 100% 2000/2000 [00:50<00:00, 39.87 step/s, accuracy=0.96, loss=0.18, step=6e+4]\n",
            "Valid: 100% 6912/6944 [00:01<00:00, 4122.46 uttr/s, accuracy=0.85, loss=0.70]\n",
            "Train:   0% 8/2000 [00:00<00:50, 39.69 step/s, accuracy=0.91, loss=0.29, step=6e+4]"
          ],
          "name": "stderr"
        },
        {
          "output_type": "stream",
          "text": [
            "Step 60000, best model saved. (accuracy=0.8537)\n"
          ],
          "name": "stdout"
        },
        {
          "output_type": "stream",
          "text": [
            "Train: 100% 2000/2000 [00:51<00:00, 38.82 step/s, accuracy=0.93, loss=0.22, step=62000]\n",
            "Valid: 100% 6912/6944 [00:01<00:00, 4157.15 uttr/s, accuracy=0.85, loss=0.72]\n",
            "Train: 100% 2000/2000 [00:50<00:00, 39.27 step/s, accuracy=0.95, loss=0.24, step=64000]\n",
            "Valid: 100% 6912/6944 [00:01<00:00, 4263.45 uttr/s, accuracy=0.85, loss=0.72]\n",
            "Train: 100% 2000/2000 [00:50<00:00, 39.54 step/s, accuracy=0.94, loss=0.15, step=66000]\n",
            "Valid: 100% 6912/6944 [00:01<00:00, 4252.28 uttr/s, accuracy=0.86, loss=0.68]\n",
            "Train: 100% 2000/2000 [00:50<00:00, 39.55 step/s, accuracy=0.97, loss=0.12, step=68000]\n",
            "Valid: 100% 6912/6944 [00:01<00:00, 4227.50 uttr/s, accuracy=0.86, loss=0.64]\n",
            "Train: 100% 2000/2000 [00:50<00:00, 39.93 step/s, accuracy=0.94, loss=0.16, step=7e+4]\n",
            "Valid: 100% 6912/6944 [00:01<00:00, 4073.89 uttr/s, accuracy=0.85, loss=0.69]\n",
            "Train:   0% 8/2000 [00:00<00:50, 39.25 step/s, accuracy=0.96, loss=0.17, step=7e+4]"
          ],
          "name": "stderr"
        },
        {
          "output_type": "stream",
          "text": [
            "Step 70000, best model saved. (accuracy=0.8614)\n"
          ],
          "name": "stdout"
        },
        {
          "output_type": "stream",
          "text": [
            "Train: 100% 2000/2000 [00:50<00:00, 39.99 step/s, accuracy=0.97, loss=0.16, step=72000]\n",
            "Valid: 100% 6912/6944 [00:01<00:00, 4256.24 uttr/s, accuracy=0.86, loss=0.69]\n",
            "Train: 100% 2000/2000 [00:50<00:00, 39.60 step/s, accuracy=0.96, loss=0.09, step=74000]\n",
            "Valid: 100% 6912/6944 [00:01<00:00, 4276.47 uttr/s, accuracy=0.86, loss=0.67]\n",
            "Train: 100% 2000/2000 [00:50<00:00, 39.83 step/s, accuracy=0.97, loss=0.19, step=76000]\n",
            "Valid: 100% 6912/6944 [00:01<00:00, 4231.22 uttr/s, accuracy=0.86, loss=0.64]\n",
            "Train: 100% 2000/2000 [00:50<00:00, 39.96 step/s, accuracy=0.97, loss=0.09, step=78000]\n",
            "Valid: 100% 6912/6944 [00:01<00:00, 4311.22 uttr/s, accuracy=0.87, loss=0.65]\n",
            "Train: 100% 2000/2000 [00:50<00:00, 39.93 step/s, accuracy=0.97, loss=0.08, step=8e+4]\n",
            "Valid: 100% 6912/6944 [00:01<00:00, 4198.72 uttr/s, accuracy=0.86, loss=0.65]\n",
            "Train:   0% 8/2000 [00:00<00:54, 36.22 step/s, accuracy=0.97, loss=0.10, step=8e+4]"
          ],
          "name": "stderr"
        },
        {
          "output_type": "stream",
          "text": [
            "Step 80000, best model saved. (accuracy=0.8656)\n"
          ],
          "name": "stdout"
        },
        {
          "output_type": "stream",
          "text": [
            "Train: 100% 2000/2000 [00:51<00:00, 39.14 step/s, accuracy=0.96, loss=0.09, step=82000]\n",
            "Valid: 100% 6912/6944 [00:01<00:00, 4200.08 uttr/s, accuracy=0.87, loss=0.63]\n",
            "Train: 100% 2000/2000 [00:50<00:00, 39.57 step/s, accuracy=0.96, loss=0.10, step=84000]\n",
            "Valid: 100% 6912/6944 [00:01<00:00, 4188.71 uttr/s, accuracy=0.88, loss=0.60]\n",
            "Train: 100% 2000/2000 [00:50<00:00, 39.67 step/s, accuracy=0.98, loss=0.07, step=86000]\n",
            "Valid: 100% 6912/6944 [00:01<00:00, 4153.73 uttr/s, accuracy=0.88, loss=0.59]\n",
            "Train: 100% 2000/2000 [00:51<00:00, 39.07 step/s, accuracy=0.98, loss=0.08, step=88000]\n",
            "Valid: 100% 6912/6944 [00:01<00:00, 4278.37 uttr/s, accuracy=0.88, loss=0.61]\n",
            "Train: 100% 2000/2000 [00:50<00:00, 39.51 step/s, accuracy=0.94, loss=0.15, step=9e+4]\n",
            "Valid: 100% 6912/6944 [00:01<00:00, 4102.24 uttr/s, accuracy=0.89, loss=0.58]\n",
            "Train:   0% 8/2000 [00:00<00:52, 37.98 step/s, accuracy=0.97, loss=0.10, step=9e+4]"
          ],
          "name": "stderr"
        },
        {
          "output_type": "stream",
          "text": [
            "Step 90000, best model saved. (accuracy=0.8864)\n"
          ],
          "name": "stdout"
        },
        {
          "output_type": "stream",
          "text": [
            "Train: 100% 2000/2000 [00:50<00:00, 39.57 step/s, accuracy=0.94, loss=0.16, step=92000]\n",
            "Valid: 100% 6912/6944 [00:01<00:00, 4148.90 uttr/s, accuracy=0.88, loss=0.61]\n",
            "Train: 100% 2000/2000 [00:50<00:00, 39.85 step/s, accuracy=0.98, loss=0.09, step=94000]\n",
            "Valid: 100% 6912/6944 [00:01<00:00, 4304.45 uttr/s, accuracy=0.89, loss=0.56]\n",
            "Train: 100% 2000/2000 [00:50<00:00, 39.94 step/s, accuracy=0.96, loss=0.09, step=96000]\n",
            "Valid: 100% 6912/6944 [00:01<00:00, 4216.43 uttr/s, accuracy=0.88, loss=0.59]\n",
            "Train: 100% 2000/2000 [00:50<00:00, 39.90 step/s, accuracy=0.98, loss=0.11, step=98000]\n",
            "Valid: 100% 6912/6944 [00:01<00:00, 4299.26 uttr/s, accuracy=0.88, loss=0.59]\n",
            "Train: 100% 2000/2000 [00:49<00:00, 40.02 step/s, accuracy=0.98, loss=0.06, step=1e+5]\n",
            "Valid: 100% 6912/6944 [00:01<00:00, 4170.88 uttr/s, accuracy=0.89, loss=0.56]\n",
            "Train:   0% 8/2000 [00:00<00:54, 36.65 step/s, accuracy=0.98, loss=0.04, step=1e+5]"
          ],
          "name": "stderr"
        },
        {
          "output_type": "stream",
          "text": [
            "Step 100000, best model saved. (accuracy=0.8877)\n"
          ],
          "name": "stdout"
        },
        {
          "output_type": "stream",
          "text": [
            "Train: 100% 2000/2000 [00:50<00:00, 39.45 step/s, accuracy=0.99, loss=0.05, step=102000]\n",
            "Valid: 100% 6912/6944 [00:01<00:00, 4254.62 uttr/s, accuracy=0.89, loss=0.56]\n",
            "Train: 100% 2000/2000 [00:49<00:00, 40.03 step/s, accuracy=0.99, loss=0.04, step=104000]\n",
            "Valid: 100% 6912/6944 [00:01<00:00, 4175.49 uttr/s, accuracy=0.89, loss=0.56]\n",
            "Train: 100% 2000/2000 [00:50<00:00, 39.87 step/s, accuracy=0.99, loss=0.05, step=106000]\n",
            "Valid: 100% 6912/6944 [00:01<00:00, 4256.39 uttr/s, accuracy=0.89, loss=0.55]\n",
            "Train: 100% 2000/2000 [00:49<00:00, 40.08 step/s, accuracy=1.00, loss=0.02, step=108000]\n",
            "Valid: 100% 6912/6944 [00:01<00:00, 4255.79 uttr/s, accuracy=0.90, loss=0.54]\n",
            "Train: 100% 2000/2000 [00:50<00:00, 39.85 step/s, accuracy=0.99, loss=0.04, step=110000]\n",
            "Valid: 100% 6912/6944 [00:01<00:00, 4214.29 uttr/s, accuracy=0.90, loss=0.55]\n",
            "Train:   0% 8/2000 [00:00<00:54, 36.45 step/s, accuracy=0.99, loss=0.02, step=110008]"
          ],
          "name": "stderr"
        },
        {
          "output_type": "stream",
          "text": [
            "Step 110000, best model saved. (accuracy=0.8960)\n"
          ],
          "name": "stdout"
        },
        {
          "output_type": "stream",
          "text": [
            "Train: 100% 2000/2000 [00:49<00:00, 40.04 step/s, accuracy=1.00, loss=0.01, step=112000]\n",
            "Valid: 100% 6912/6944 [00:01<00:00, 4275.33 uttr/s, accuracy=0.90, loss=0.54]\n",
            "Train: 100% 2000/2000 [00:50<00:00, 39.86 step/s, accuracy=1.00, loss=0.01, step=114000]\n",
            "Valid: 100% 6912/6944 [00:01<00:00, 4353.34 uttr/s, accuracy=0.89, loss=0.55]\n",
            "Train: 100% 2000/2000 [00:50<00:00, 39.83 step/s, accuracy=0.98, loss=0.05, step=116000]\n",
            "Valid: 100% 6912/6944 [00:01<00:00, 4266.69 uttr/s, accuracy=0.90, loss=0.53]\n",
            "Train: 100% 2000/2000 [00:50<00:00, 39.83 step/s, accuracy=0.99, loss=0.02, step=118000]\n",
            "Valid: 100% 6912/6944 [00:01<00:00, 4356.01 uttr/s, accuracy=0.90, loss=0.53]\n",
            "Train: 100% 2000/2000 [00:50<00:00, 39.93 step/s, accuracy=0.99, loss=0.04, step=120000]\n",
            "Valid: 100% 6912/6944 [00:01<00:00, 4203.29 uttr/s, accuracy=0.90, loss=0.52]\n",
            "Train:   0% 8/2000 [00:00<00:51, 38.88 step/s, accuracy=0.99, loss=0.02, step=120008]"
          ],
          "name": "stderr"
        },
        {
          "output_type": "stream",
          "text": [
            "Step 120000, best model saved. (accuracy=0.9006)\n"
          ],
          "name": "stdout"
        },
        {
          "output_type": "stream",
          "text": [
            "Train: 100% 2000/2000 [00:49<00:00, 40.11 step/s, accuracy=0.98, loss=0.04, step=122000]\n",
            "Valid: 100% 6912/6944 [00:01<00:00, 4229.82 uttr/s, accuracy=0.90, loss=0.51]\n",
            "Train: 100% 2000/2000 [00:50<00:00, 39.29 step/s, accuracy=0.99, loss=0.02, step=124000]\n",
            "Valid: 100% 6912/6944 [00:01<00:00, 4052.44 uttr/s, accuracy=0.90, loss=0.52]\n",
            "Train: 100% 2000/2000 [00:49<00:00, 40.09 step/s, accuracy=1.00, loss=0.02, step=126000]\n",
            "Valid: 100% 6912/6944 [00:01<00:00, 4274.72 uttr/s, accuracy=0.90, loss=0.51]\n",
            "Train: 100% 2000/2000 [00:49<00:00, 40.03 step/s, accuracy=0.99, loss=0.04, step=128000]\n",
            "Valid: 100% 6912/6944 [00:01<00:00, 4200.90 uttr/s, accuracy=0.91, loss=0.47]\n",
            "Train: 100% 2000/2000 [00:49<00:00, 40.03 step/s, accuracy=1.00, loss=0.01, step=130000]\n",
            "Valid: 100% 6912/6944 [00:01<00:00, 4285.70 uttr/s, accuracy=0.91, loss=0.49]\n",
            "Train:   0% 8/2000 [00:00<00:49, 39.87 step/s, accuracy=0.99, loss=0.03, step=130008]"
          ],
          "name": "stderr"
        },
        {
          "output_type": "stream",
          "text": [
            "Step 130000, best model saved. (accuracy=0.9099)\n"
          ],
          "name": "stdout"
        },
        {
          "output_type": "stream",
          "text": [
            "Train: 100% 2000/2000 [00:50<00:00, 39.99 step/s, accuracy=0.99, loss=0.03, step=132000]\n",
            "Valid: 100% 6912/6944 [00:01<00:00, 4138.92 uttr/s, accuracy=0.90, loss=0.52]\n",
            "Train: 100% 2000/2000 [00:49<00:00, 40.07 step/s, accuracy=1.00, loss=0.01, step=134000]\n",
            "Valid: 100% 6912/6944 [00:01<00:00, 4211.11 uttr/s, accuracy=0.91, loss=0.50]\n",
            "Train: 100% 2000/2000 [00:49<00:00, 40.04 step/s, accuracy=1.00, loss=0.01, step=136000]\n",
            "Valid: 100% 6912/6944 [00:01<00:00, 4230.81 uttr/s, accuracy=0.91, loss=0.49]\n",
            "Train: 100% 2000/2000 [00:49<00:00, 40.10 step/s, accuracy=1.00, loss=0.01, step=138000]\n",
            "Valid: 100% 6912/6944 [00:01<00:00, 4250.22 uttr/s, accuracy=0.91, loss=0.48]\n",
            "Train: 100% 2000/2000 [00:50<00:00, 39.98 step/s, accuracy=1.00, loss=0.01, step=140000]\n",
            "Valid: 100% 6912/6944 [00:01<00:00, 4230.74 uttr/s, accuracy=0.91, loss=0.50]\n",
            "Train:   0% 8/2000 [00:00<00:52, 37.84 step/s, accuracy=0.99, loss=0.06, step=140008]"
          ],
          "name": "stderr"
        },
        {
          "output_type": "stream",
          "text": [
            "Step 140000, best model saved. (accuracy=0.9099)\n"
          ],
          "name": "stdout"
        },
        {
          "output_type": "stream",
          "text": [
            "Train: 100% 2000/2000 [00:50<00:00, 39.91 step/s, accuracy=1.00, loss=0.01, step=142000]\n",
            "Valid: 100% 6912/6944 [00:01<00:00, 4267.31 uttr/s, accuracy=0.91, loss=0.46]\n",
            "Train: 100% 2000/2000 [00:51<00:00, 39.14 step/s, accuracy=1.00, loss=0.01, step=144000]\n",
            "Valid: 100% 6912/6944 [00:01<00:00, 4111.76 uttr/s, accuracy=0.90, loss=0.50]\n",
            "Train: 100% 2000/2000 [00:49<00:00, 40.10 step/s, accuracy=0.99, loss=0.02, step=146000]\n",
            "Valid: 100% 6912/6944 [00:01<00:00, 4263.08 uttr/s, accuracy=0.90, loss=0.51]\n",
            "Train: 100% 2000/2000 [00:50<00:00, 39.91 step/s, accuracy=1.00, loss=0.01, step=148000]\n",
            "Valid: 100% 6912/6944 [00:01<00:00, 4315.68 uttr/s, accuracy=0.91, loss=0.48]\n",
            "Train: 100% 2000/2000 [00:49<00:00, 40.18 step/s, accuracy=0.99, loss=0.02, step=150000]\n",
            "Valid: 100% 6912/6944 [00:01<00:00, 4151.39 uttr/s, accuracy=0.91, loss=0.48]\n",
            "Train:   0% 0/2000 [00:00<?, ? step/s]\n"
          ],
          "name": "stderr"
        },
        {
          "output_type": "stream",
          "text": [
            "Step 150000, best model saved. (accuracy=0.9099)\n"
          ],
          "name": "stdout"
        }
      ]
    },
    {
      "cell_type": "markdown",
      "metadata": {
        "id": "0R2rx3AyHpQ-"
      },
      "source": [
        "# Inference"
      ]
    },
    {
      "cell_type": "markdown",
      "metadata": {
        "id": "pSuI3WY9Fz78"
      },
      "source": [
        "## Dataset of inference"
      ]
    },
    {
      "cell_type": "code",
      "metadata": {
        "id": "4evns0055Dsx"
      },
      "source": [
        "import os\n",
        "import json\n",
        "import torch\n",
        "from pathlib import Path\n",
        "from torch.utils.data import Dataset\n",
        "\n",
        "\n",
        "class InferenceDataset(Dataset):\n",
        "  def __init__(self, data_dir):\n",
        "    testdata_path = Path(data_dir) / \"testdata.json\"\n",
        "    metadata = json.load(testdata_path.open())\n",
        "    self.data_dir = data_dir\n",
        "    self.data = metadata[\"utterances\"]\n",
        "\n",
        "  def __len__(self):\n",
        "    return len(self.data)\n",
        "\n",
        "  def __getitem__(self, index):\n",
        "    utterance = self.data[index]\n",
        "    feat_path = utterance[\"feature_path\"]\n",
        "    mel = torch.load(os.path.join(self.data_dir, feat_path))\n",
        "\n",
        "    return feat_path, mel\n",
        "\n",
        "\n",
        "def inference_collate_batch(batch):\n",
        "  \"\"\"Collate a batch of data.\"\"\"\n",
        "  feat_paths, mels = zip(*batch)\n",
        "\n",
        "  return feat_paths, torch.stack(mels)\n"
      ],
      "execution_count": 55,
      "outputs": []
    },
    {
      "cell_type": "markdown",
      "metadata": {
        "id": "oAinHBG1GIWv"
      },
      "source": [
        "## Main funcrion of Inference"
      ]
    },
    {
      "cell_type": "code",
      "metadata": {
        "id": "yQaTt7VDHoRI",
        "colab": {
          "base_uri": "https://localhost:8080/",
          "height": 171,
          "referenced_widgets": [
            "dd5e351a084242539c393695402d18d9",
            "af0d32a475b348719a64bdc2ae17f928",
            "365faa3a520e4303919d30becf65966b",
            "630c8e6be29c4b3f9a50b6e64c2da18d",
            "d73590e7fe564156a06ffe11a75a9947",
            "d01037ffc16f4fe4aed508744d7a183f",
            "b062da4dfb9646dfba18ab10cbfbf1cb",
            "170983221517494ba44ef5274a14f9e8"
          ]
        },
        "outputId": "745172b9-43fe-4fef-c8fc-f1edef5bd78e"
      },
      "source": [
        "import json\n",
        "import csv\n",
        "from pathlib import Path\n",
        "from tqdm.notebook import tqdm\n",
        "\n",
        "import torch\n",
        "from torch.utils.data import DataLoader\n",
        "\n",
        "def parse_args():\n",
        "  \"\"\"arguments\"\"\"\n",
        "  config = {\n",
        "    \"data_dir\": \"./Dataset\",\n",
        "    \"model_path\": \"./model.ckpt\",\n",
        "    \"output_path\": \"/content/drive/MyDrive/output.csv\",\n",
        "  }\n",
        "\n",
        "  return config\n",
        "\n",
        "\n",
        "def main(\n",
        "  data_dir,\n",
        "  model_path,\n",
        "  output_path,\n",
        "):\n",
        "  \"\"\"Main function.\"\"\"\n",
        "  device = torch.device(\"cuda\" if torch.cuda.is_available() else \"cpu\")\n",
        "  print(f\"[Info]: Use {device} now!\")\n",
        "\n",
        "  mapping_path = Path(data_dir) / \"mapping.json\"\n",
        "  mapping = json.load(mapping_path.open())\n",
        "\n",
        "  dataset = InferenceDataset(data_dir)\n",
        "  dataloader = DataLoader(\n",
        "    dataset,\n",
        "    batch_size=1,\n",
        "    shuffle=False,\n",
        "    drop_last=False,\n",
        "    num_workers=8,\n",
        "    collate_fn=inference_collate_batch,\n",
        "  )\n",
        "  print(f\"[Info]: Finish loading data!\",flush = True)\n",
        "\n",
        "  speaker_num = len(mapping[\"id2speaker\"])\n",
        "  model = Classifier(n_spks=speaker_num).to(device)\n",
        "  model.load_state_dict(torch.load(model_path))\n",
        "  model.eval()\n",
        "  print(f\"[Info]: Finish creating model!\",flush = True)\n",
        "\n",
        "  results = [[\"Id\", \"Category\"]]\n",
        "  for feat_paths, mels in tqdm(dataloader):\n",
        "    with torch.no_grad():\n",
        "      mels = mels.to(device)\n",
        "      outs = model(mels)\n",
        "      preds = outs.argmax(1).cpu().numpy()\n",
        "      for feat_path, pred in zip(feat_paths, preds):\n",
        "        results.append([feat_path, mapping[\"id2speaker\"][str(pred)]])\n",
        "  \n",
        "  with open(output_path, 'w', newline='') as csvfile:\n",
        "    writer = csv.writer(csvfile)\n",
        "    writer.writerows(results)\n",
        "\n",
        "\n",
        "if __name__ == \"__main__\":\n",
        "  main(**parse_args())\n"
      ],
      "execution_count": 56,
      "outputs": [
        {
          "output_type": "stream",
          "text": [
            "[Info]: Use cuda now!\n",
            "[Info]: Finish loading data!\n",
            "[Info]: Finish creating model!\n"
          ],
          "name": "stdout"
        },
        {
          "output_type": "stream",
          "text": [
            "/usr/local/lib/python3.7/dist-packages/torch/utils/data/dataloader.py:477: UserWarning: This DataLoader will create 8 worker processes in total. Our suggested max number of worker in current system is 4, which is smaller than what this DataLoader is going to create. Please be aware that excessive worker creation might get DataLoader running slow or even freeze, lower the worker number to avoid potential slowness/freeze if necessary.\n",
            "  cpuset_checked))\n"
          ],
          "name": "stderr"
        },
        {
          "output_type": "display_data",
          "data": {
            "application/vnd.jupyter.widget-view+json": {
              "model_id": "dd5e351a084242539c393695402d18d9",
              "version_minor": 0,
              "version_major": 2
            },
            "text/plain": [
              "HBox(children=(FloatProgress(value=0.0, max=6000.0), HTML(value='')))"
            ]
          },
          "metadata": {
            "tags": []
          }
        },
        {
          "output_type": "stream",
          "text": [
            "\n"
          ],
          "name": "stdout"
        }
      ]
    }
  ]
}